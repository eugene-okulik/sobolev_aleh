{
 "cells": [
  {
   "cell_type": "code",
   "execution_count": 1,
   "id": "initial_id",
   "metadata": {
    "collapsed": true,
    "ExecuteTime": {
     "end_time": "2024-08-04T16:31:44.526171Z",
     "start_time": "2024-08-04T16:31:42.129855Z"
    }
   },
   "outputs": [
    {
     "name": "stdout",
     "output_type": "stream",
     "text": [
      "hypot = 6.4\n",
      "S = 10.0\n"
     ]
    }
   ],
   "source": [
    "import math\n",
    "\n",
    "a, b = map(float, input(\"enter a b: \").split())\n",
    "\n",
    "hypot = math.sqrt(a**2 + b**2)\n",
    "S = 0.5 * a * b\n",
    "\n",
    "print(f\"hypot = {round(hypot, 1)}\")\n",
    "print(f\"S = {round(S, 1)}\")"
   ]
  },
  {
   "cell_type": "code",
   "execution_count": null,
   "outputs": [],
   "source": [],
   "metadata": {
    "collapsed": false
   },
   "id": "cde101af236baf37"
  }
 ],
 "metadata": {
  "kernelspec": {
   "display_name": "Python 3",
   "language": "python",
   "name": "python3"
  },
  "language_info": {
   "codemirror_mode": {
    "name": "ipython",
    "version": 2
   },
   "file_extension": ".py",
   "mimetype": "text/x-python",
   "name": "python",
   "nbconvert_exporter": "python",
   "pygments_lexer": "ipython2",
   "version": "2.7.6"
  }
 },
 "nbformat": 4,
 "nbformat_minor": 5
}

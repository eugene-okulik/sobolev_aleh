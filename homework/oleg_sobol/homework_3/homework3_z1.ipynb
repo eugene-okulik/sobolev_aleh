{
 "cells": [
  {
   "cell_type": "code",
   "execution_count": 3,
   "id": "initial_id",
   "metadata": {
    "collapsed": true,
    "ExecuteTime": {
     "end_time": "2024-08-04T15:42:12.051820Z",
     "start_time": "2024-08-04T15:42:04.686918Z"
    }
   },
   "outputs": [
    {
     "name": "stdout",
     "output_type": "stream",
     "text": [
      "summa =  121.5885\n",
      "different =  31.1021\n",
      "product =  3454.108\n"
     ]
    }
   ],
   "source": [
    "a = float(input(\"a = \"))\n",
    "b = float(input(\"b = \"))\n",
    "\n",
    "summ = a + b\n",
    "diff = a - b\n",
    "prod = a * b\n",
    "\n",
    "print(\"summa = \", round(summ, 4))\n",
    "print(\"different = \", round(diff, 4))\n",
    "print(\"product = \", round(prod, 4))"
   ]
  },
  {
   "cell_type": "code",
   "execution_count": null,
   "outputs": [],
   "source": [],
   "metadata": {
    "collapsed": false
   },
   "id": "7bb9dc3128f2fd93"
  }
 ],
 "metadata": {
  "kernelspec": {
   "display_name": "Python 3",
   "language": "python",
   "name": "python3"
  },
  "language_info": {
   "codemirror_mode": {
    "name": "ipython",
    "version": 2
   },
   "file_extension": ".py",
   "mimetype": "text/x-python",
   "name": "python",
   "nbconvert_exporter": "python",
   "pygments_lexer": "ipython2",
   "version": "2.7.6"
  }
 },
 "nbformat": 4,
 "nbformat_minor": 5
}

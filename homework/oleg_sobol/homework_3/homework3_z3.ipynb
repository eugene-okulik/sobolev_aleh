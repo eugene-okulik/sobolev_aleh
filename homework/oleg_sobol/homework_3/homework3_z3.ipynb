{
 "cells": [
  {
   "cell_type": "code",
   "execution_count": 7,
   "outputs": [
    {
     "name": "stdout",
     "output_type": "stream",
     "text": [
      "a_middle =  2770.039\n",
      "g_middle =  175.1595\n"
     ]
    }
   ],
   "source": [
    "import math\n",
    "\n",
    "a = float(input(\"a = \"))\n",
    "b = float(input(\"b = \"))\n",
    "\n",
    "a_middle = (a + b) / 2\n",
    "g_middle = math.sqrt(a * b)\n",
    "\n",
    "print(\"a_middle = \", round(a_middle, 4))\n",
    "print(\"g_middle = \", round(g_middle, 4))\n"
   ],
   "metadata": {
    "collapsed": false,
    "ExecuteTime": {
     "end_time": "2024-08-04T16:13:33.185640Z",
     "start_time": "2024-08-04T16:13:25.594767Z"
    }
   },
   "id": "16a332eb88d4a1c8"
  },
  {
   "cell_type": "code",
   "execution_count": null,
   "outputs": [],
   "source": [],
   "metadata": {
    "collapsed": false
   },
   "id": "9773dbf8a08d8215"
  }
 ],
 "metadata": {
  "kernelspec": {
   "display_name": "Python 3",
   "language": "python",
   "name": "python3"
  },
  "language_info": {
   "codemirror_mode": {
    "name": "ipython",
    "version": 2
   },
   "file_extension": ".py",
   "mimetype": "text/x-python",
   "name": "python",
   "nbconvert_exporter": "python",
   "pygments_lexer": "ipython2",
   "version": "2.7.6"
  }
 },
 "nbformat": 4,
 "nbformat_minor": 5
}
